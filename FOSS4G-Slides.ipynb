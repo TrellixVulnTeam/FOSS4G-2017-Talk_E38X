{
 "cells": [
  {
   "cell_type": "markdown",
   "metadata": {
    "extensions": {
     "jupyter_dashboards": {
      "version": 1,
      "views": {
       "grid_default": {
        "col": 0,
        "height": 4,
        "hidden": false,
        "row": 0,
        "width": 12
       },
       "report_default": {}
      }
     }
    },
    "slideshow": {
     "slide_type": "slide"
    }
   },
   "source": [
    "<H1 align=\"center\">GeoViews: From exploratory analysis<br><br>to custom GIS dashboards in a few lines of Python code</H1>\n",
    "<br>\n",
    "<H2 align=\"center\">FOSS4G Boston 2017</H2>\n",
    "<H3 align=\"center\">\n",
    "Philipp Rudiger and James A. Bednar\n",
    "</H3>\n",
    "<H3 align=\"center\">\n",
    "Continuum Analytics\n",
    "</H3>\n",
    "<center>\n",
    "<img src=\"./combined.png\" width='550px'></img>\n",
    "</center>\n",
    "<br>\n",
    "<center>\n",
    "<img src=\"./anaconda_logo.png\" width='150px'></img>\n",
    "</center>"
   ]
  },
  {
   "cell_type": "markdown",
   "metadata": {
    "extensions": {
     "jupyter_dashboards": {
      "version": 1,
      "views": {
       "grid_default": {
        "col": 0,
        "height": 5,
        "hidden": false,
        "row": 4,
        "width": 12
       },
       "report_default": {}
      }
     }
    },
    "slideshow": {
     "slide_type": "slide"
    }
   },
   "source": [
    "**Let's say you want to make it easy to explore some dataset. That is, you want to:** \n",
    "\n",
    "* Make a visualization of the data\n",
    "* Maybe add some custom widgets to see the effects of some variables\n",
    "* Then deploy the result as a web app.\n",
    "\n",
    "**You can do that in Python, but you typically need to:**\n",
    "* Spend days of effort to get some initial prototype working, e.g. in a Jupyter notebook\n",
    "* Try to tame the resulting opaque mishmash of domain-specific, widget, and plotting code\n",
    "* Start over nearly from scratch whenever you need to:\n",
    "    - Deploy in a standalone server\n",
    "    - Visualize different aspects of your data\n",
    "    - Scale up to larger (>100K) datasets"
   ]
  },
  {
   "cell_type": "markdown",
   "metadata": {
    "extensions": {
     "jupyter_dashboards": {
      "version": 1,
      "views": {
       "grid_default": {
        "hidden": true
       },
       "report_default": {
        "hidden": true
       }
      }
     }
    },
    "slideshow": {
     "slide_type": "slide"
    }
   },
   "source": [
    "# Is there a better way?\n",
    "\n",
    "In the first part of the talk, we'll introduce some new Python libraries that help make specific steps in this process easier.\n",
    "\n",
    "In the second part, we'll show how these and other libraries fit together to make it easy to develop custom apps for exploring data."
   ]
  },
  {
   "cell_type": "markdown",
   "metadata": {
    "slideshow": {
     "slide_type": "slide"
    }
   },
   "source": [
    "# SciPy Ecosystem\n",
    "\n",
    "<figure>\n",
    "<center>\n",
    "<img src=\"./scipy_ecosystem.png\" width='60%'>\n",
    "</center>\n",
    "<br>\n",
    "<center><h4>Image by Jake VanderPlas</h4></center>\n",
    "</figure>"
   ]
  },
  {
   "cell_type": "markdown",
   "metadata": {
    "slideshow": {
     "slide_type": "slide"
    }
   },
   "source": [
    "# Bokeh Ecosystem\n",
    "\n",
    "* Bokeh interactive plotting in the browser\n",
    "* Supports Jupyter notebook for interactive plotting\n",
    "* Includes Bokeh Server to deploy as standalone apps\n",
    "* Works well for medium data sizes (up to 100K points)\n",
    "* Seamlessly integrates with new Datashader library for larger datasets\n",
    "* HoloViews: New high-level interface coordinating Datashader and Bokeh\n",
    "* GeoViews: New geography-specific extensions for HoloViews\n",
    "\n",
    "<center>\n",
    "<img src=\"./ds_hv_bokeh.png\" width='60%'></img>\n",
    "</center>"
   ]
  },
  {
   "cell_type": "code",
   "execution_count": null,
   "metadata": {
    "slideshow": {
     "slide_type": "skip"
    }
   },
   "outputs": [],
   "source": [
    "import holoviews as hv\n",
    "import geoviews as gv\n",
    "import param, paramnb, parambokeh\n",
    "import pandas as pd\n",
    "import dask.dataframe as dd\n",
    "import cartopy.crs as ccrs\n",
    "import datashader as ds\n",
    "import xarray as xr\n",
    "\n",
    "from colorcet import cm\n",
    "from holoviews.operation.datashader import datashade\n",
    "from holoviews.streams import RangeXY, PlotSize\n",
    "from geoviews import feature as gf\n",
    "\n",
    "from bokeh.models import WMTSTileSource\n",
    "from bokeh.tile_providers import STAMEN_TONER\n",
    "\n",
    "tiles = {'OpenMap': WMTSTileSource(url='http://c.tile.openstreetmap.org/{Z}/{X}/{Y}.png'),\n",
    "         'ESRI': WMTSTileSource(url='https://server.arcgisonline.com/ArcGIS/rest/services/World_Imagery/MapServer/tile/{Z}/{X}/{Y}.jpg'),\n",
    "         'Wikipedia': WMTSTileSource(url='https://maps.wikimedia.org/osm-intl/{Z}/{X}/{Y}@2x.png'),\n",
    "         'Stamen Toner': STAMEN_TONER}\n",
    "\n",
    "hv.extension('bokeh', 'matplotlib')\n",
    "\n",
    "%opts Points [toolbar='above' xaxis=None yaxis=None]"
   ]
  },
  {
   "cell_type": "markdown",
   "metadata": {
    "slideshow": {
     "slide_type": "slide"
    }
   },
   "source": [
    "# HoloViews/GeoViews\n",
    "\n",
    "* HoloViews:\n",
    "    * Declarative objects for instantly visualizable data\n",
    "    * Supports different plotting extensions including matplotlib and Bokeh\n",
    "    * Makes it simple to lay out and overlay different types of plots\n",
    "    * Simplifies exploring multidimensional parameter spaces\n",
    "    * Accepts data from pandas, xarray (NetCDF), shapefiles, geopandas, etc.\n",
    "\n",
    "* GeoViews:\n",
    "    * GIS extension for HoloViews based on Cartopy for geographic projections\n",
    "    * Wide range of declarative primitives\n",
    "    * Support for:\n",
    "        * Tile sources\n",
    "        * Geographic features\n",
    "        * Projections\n",
    "        * Points, Shapes, Rasters, etc."
   ]
  },
  {
   "cell_type": "code",
   "execution_count": null,
   "metadata": {
    "slideshow": {
     "slide_type": "subslide"
    }
   },
   "outputs": [],
   "source": [
    "%%output backend='matplotlib' dpi=120\n",
    "%%opts Feature [projection=ccrs.Robinson()]\n",
    "gf.coastline + gf.ocean + gf.ocean*gf.land*gf.coastline"
   ]
  },
  {
   "cell_type": "code",
   "execution_count": null,
   "metadata": {
    "slideshow": {
     "slide_type": "subslide"
    }
   },
   "outputs": [],
   "source": [
    "earthquakes = pd.read_csv('./data/earthquakes.csv', parse_dates=['Date'])\n",
    "earthquake_ds = gv.Dataset(earthquakes, kdims=['Date', 'longitude', 'latitude']).sort()\n",
    "earthquakes.tail()"
   ]
  },
  {
   "cell_type": "code",
   "execution_count": null,
   "metadata": {
    "slideshow": {
     "slide_type": "fragment"
    }
   },
   "outputs": [],
   "source": [
    "%%opts Points [width=600 height=530 tools=['hover'] color_index='mag' size_index='mag']\n",
    "%%opts Points [colorbar=True size_fn=np.exp] (line_color='black')\n",
    "eq_points = earthquake_ds.to(gv.Points, groupby='Date', dynamic=True).redim.range(mag=(0, 7))\n",
    "gv.WMTS(tiles['Wikipedia']) * eq_points"
   ]
  },
  {
   "cell_type": "markdown",
   "metadata": {
    "slideshow": {
     "slide_type": "skip"
    }
   },
   "source": [
    "Be sure to try hovering and zooming in the above plot!"
   ]
  },
  {
   "cell_type": "code",
   "execution_count": null,
   "metadata": {
    "slideshow": {
     "slide_type": "subslide"
    }
   },
   "outputs": [],
   "source": [
    "%%output backend='matplotlib' size=300\n",
    "%%opts Points [xaxis=None yaxis=None tools=['hover'] color_index='mag' size_index='mag']\n",
    "%%opts Points [colorbar=True size_fn=np.exp projection=ccrs.Robinson()] (edgecolor='black')\n",
    "eq_points * gf.coastline * gf.borders"
   ]
  },
  {
   "cell_type": "markdown",
   "metadata": {
    "slideshow": {
     "slide_type": "subslide"
    }
   },
   "source": [
    "## XArray: Loading and plotting NetCDF data"
   ]
  },
  {
   "cell_type": "code",
   "execution_count": null,
   "metadata": {
    "slideshow": {
     "slide_type": "fragment"
    }
   },
   "outputs": [],
   "source": [
    "%%opts Image [width=600 height=400 xaxis=None yaxis=None] (cmap='viridis') Feature (line_color='white' line_width=2)\n",
    "ds = xr.open_dataset('./data/rhum.2003.nc')\n",
    "hum_ds = gv.Dataset(ds, label='Relative Humidity')\n",
    "hum_img = hum_ds.to(gv.Image, ['lon', 'lat'], dynamic=True).redim.range(rhum=(0, 100))\n",
    "hum_img * gf.borders * gf.coastline"
   ]
  },
  {
   "cell_type": "code",
   "execution_count": null,
   "metadata": {},
   "outputs": [],
   "source": [
    "%%output backend='matplotlib' size=300\n",
    "%%opts Image [xaxis=None yaxis=None] (cmap='viridis') Feature (edgecolor='white' linewidth=2)\n",
    "hum_img * gf.borders * gf.coastline"
   ]
  },
  {
   "cell_type": "markdown",
   "metadata": {
    "slideshow": {
     "slide_type": "slide"
    }
   },
   "source": [
    "# Dealing with large data: Datashader\n",
    "\n",
    "* Data larger than ~100k points cannot easily be rendered in the browser\n",
    "* Aggregating data into fixed size image allows us to explore huge datasets\n",
    "* Thanks to Numba and Dask we can scale to a billion datapoints on a laptop and many more on a cluster\n",
    "* Will show examples shortly\n",
    "\n",
    "<br>\n",
    "<br>\n",
    "<center>\n",
    "<img src=\"./pipeline.png\" width='80%'></img>\n",
    "</center>"
   ]
  },
  {
   "cell_type": "markdown",
   "metadata": {
    "slideshow": {
     "slide_type": "slide"
    }
   },
   "source": [
    "# Summary so far -- Key libraries:\n",
    "\n",
    "1. **XArray** to load GIS data into flexible objects.\n",
    "2. **HoloViews** to wrap these objects with metadata that makes them visualizable\n",
    "3. **GeoViews** to provide GIS-specific functionality like projections to HoloViews \n",
    "4. **Bokeh** to create browser-based interactive visualizations from HoloViews objects\n",
    "5. **Datashader** to render large datasets into feasible representations\n",
    "6. **Dask** and **Numba** behind the scenes to make it all very fast\n",
    "\n",
    "So, given these libraries, how can they fit together to solve problems?"
   ]
  },
  {
   "cell_type": "markdown",
   "metadata": {
    "slideshow": {
     "slide_type": "slide"
    }
   },
   "source": [
    "# Let's look at a full data science workflow:\n",
    "\n",
    "1. Load a dataset to explore\n",
    "2. Explore the data interactively in a notebook, customizing and tweaking it\n",
    "3. Identify the important variables and create widgets to let the user adjust them\n",
    "4. Connect the widgets with the visualization for live updates\n",
    "5. Deploy the result as a standalone app/dashboard to deliver insight"
   ]
  },
  {
   "cell_type": "markdown",
   "metadata": {
    "slideshow": {
     "slide_type": "slide"
    }
   },
   "source": [
    "## Step 1: Get some data\n",
    "\n",
    "* Here we'll use a subset of the often-studied NYC Taxi dataset\n",
    "* About 12 million points of GPS locations from taxis\n",
    "* Stored in the efficient Parquet format for easy access\n",
    "* Loaded into a Dask dataframe for multi-core<br>(and if needed, out of core or distributed) computation"
   ]
  },
  {
   "cell_type": "code",
   "execution_count": null,
   "metadata": {
    "slideshow": {
     "slide_type": "fragment"
    }
   },
   "outputs": [],
   "source": [
    "%time df = dd.read_parquet('./data/nyc_taxi.parq/').persist()\n",
    "print(len(df))\n",
    "df.head(2)"
   ]
  },
  {
   "cell_type": "markdown",
   "metadata": {
    "slideshow": {
     "slide_type": "slide"
    }
   },
   "source": [
    "## Step 2: Prototype a plot in a notebook\n",
    "\n",
    "* A text-based representation isn't very useful for big datasets like this, so we need to build a plot\n",
    "* Because we don't want to start a software project, we use HoloViews\n",
    "* Because we want to overlay data on maps, we use GeoViews with HoloViews\n",
    "* Because we want our plots to be interactive, we use Bokeh as the plotting library\n",
    "* Because our data is much too big for Bokeh directly, we'll use Datashader to rasterize it first"
   ]
  },
  {
   "cell_type": "code",
   "execution_count": null,
   "metadata": {
    "slideshow": {
     "slide_type": "subslide"
    }
   },
   "outputs": [],
   "source": [
    "points = gv.Points(df, kdims=['pickup_x', 'pickup_y'], vdims=['passenger_count'], crs=ccrs.GOOGLE_MERCATOR)\n",
    "options = dict(width=800,height=475,xaxis=None,yaxis=None,bgcolor='black')\n",
    "taxi_trips = datashade(points, x_sampling=1, y_sampling=1, cmap=cm['fire']).opts(plot=options)\n",
    "taxi_trips"
   ]
  },
  {
   "cell_type": "code",
   "execution_count": null,
   "metadata": {
    "slideshow": {
     "slide_type": "subslide"
    }
   },
   "outputs": [],
   "source": [
    "taxi_trips = datashade(points, x_sampling=1, y_sampling=1, cmap=cm['fire']).opts(plot=options)\n",
    "gv.WMTS(tiles['Wikipedia']) * taxi_trips"
   ]
  },
  {
   "cell_type": "markdown",
   "metadata": {
    "slideshow": {
     "slide_type": "slide"
    }
   },
   "source": [
    "## Step 3: Declare your Parameters\n",
    "\n",
    "Now that we've prototyped a nice plot in just a few lines of code, we want it to be widely shareable, with controls for safe and easy exploration. \n",
    "\n",
    "So the next step: declare what the intended user can change, with:\n",
    "\n",
    "  - type and range checking\n",
    "  - documentation strings\n",
    "  - default values\n",
    "  \n",
    "The Param library makes it simple to declare Python attributes having these features<br>(and more, such as dynamic values and inheritance)."
   ]
  },
  {
   "cell_type": "code",
   "execution_count": null,
   "metadata": {
    "collapsed": true,
    "slideshow": {
     "slide_type": "subslide"
    }
   },
   "outputs": [],
   "source": [
    "class NYCTaxiExplorer(hv.streams.Stream):\n",
    "    alpha       = param.Magnitude(default=0.75, doc=\"Alpha value for the map opacity\")\n",
    "    plot        = param.ObjectSelector(default=\"pickup\", objects=[\"pickup\",\"dropoff\"])\n",
    "    colormap    = param.ObjectSelector(default=cm[\"fire\"], objects=cm.values())\n",
    "    passengers  = param.Range(default=(0, 10), bounds=(0, 10), doc=\"\"\"\n",
    "        Filter for taxi trips by number of passengers\"\"\")"
   ]
  },
  {
   "cell_type": "code",
   "execution_count": null,
   "metadata": {
    "slideshow": {
     "slide_type": "fragment"
    }
   },
   "outputs": [],
   "source": [
    "paramnb.Widgets(NYCTaxiExplorer)"
   ]
  },
  {
   "cell_type": "code",
   "execution_count": null,
   "metadata": {
    "collapsed": true,
    "slideshow": {
     "slide_type": "skip"
    }
   },
   "outputs": [],
   "source": [
    "#parambokeh.Widgets(NYCTaxiExplorer)"
   ]
  },
  {
   "cell_type": "markdown",
   "metadata": {
    "slideshow": {
     "slide_type": "slide"
    }
   },
   "source": [
    "## Step 4: Link your Parameters to your data\n",
    "\n",
    "Because the Parameters defined earlier are *about* a plot, it makes sense to combine the parameter and plotting declarations into a single object:"
   ]
  },
  {
   "cell_type": "code",
   "execution_count": null,
   "metadata": {
    "collapsed": true,
    "slideshow": {
     "slide_type": "fragment"
    }
   },
   "outputs": [],
   "source": [
    "class NYCTaxiExplorer(hv.streams.Stream):\n",
    "    alpha       = param.Magnitude(default=0.75, doc=\"Alpha value for the map opacity\")\n",
    "    colormap    = param.ObjectSelector(default=cm[\"fire\"], objects=cm.values())\n",
    "    plot        = param.ObjectSelector(default=\"pickup\",   objects=[\"pickup\",\"dropoff\"])\n",
    "    passengers  = param.Range(default=(0, 10), bounds=(0, 10))\n",
    "\n",
    "    def make_view(self, x_range=None, y_range=None, **kwargs):\n",
    "        map_tiles = gv.WMTS(tiles['Wikipedia']).opts(style=dict(alpha=self.alpha), plot=options) \n",
    "\n",
    "        points = hv.Points(df, kdims=[self.plot+'_x', self.plot+'_y'], vdims=['passenger_count'])\n",
    "        selected = points.select(passenger_count=self.passengers)\n",
    "        taxi_trips = datashade(selected, x_sampling=1, y_sampling=1, cmap=self.colormap,\n",
    "                               dynamic=False, x_range=x_range, y_range=y_range,\n",
    "                               width=800, height=475)\n",
    "        return map_tiles * taxi_trips"
   ]
  },
  {
   "cell_type": "code",
   "execution_count": null,
   "metadata": {
    "slideshow": {
     "slide_type": "subslide"
    }
   },
   "outputs": [],
   "source": [
    "explorer = NYCTaxiExplorer()\n",
    "paramnb.Widgets(explorer, callback=explorer.event)\n",
    "hv.DynamicMap(explorer.make_view, streams=[explorer, RangeXY()])"
   ]
  },
  {
   "cell_type": "markdown",
   "metadata": {
    "slideshow": {
     "slide_type": "slide"
    }
   },
   "source": [
    "## Step 5: Deploy your dashboard\n",
    "\n",
    "Now *you* can see the visualization, but it requires a live Python process, which makes it difficult to share with people who don't use Python.  \n",
    "\n",
    "So, let's set up a web server that people can visit to explore the data themselves:\n",
    "\n",
    "* If you used **ParamBokeh**, deploy with **Bokeh Server**:\n",
    "    - Write the above code to a file ``nyc_parambokeh.py``,<br> switching to server mode when calling `Widgets`, which will return a bokeh `Document`\n",
    "    - ``bokeh serve nyc_parambokeh.py``\n",
    "    - Send people a link to [``http://<your-machine>:5006``](http://localhost:5006)"
   ]
  },
  {
   "cell_type": "markdown",
   "metadata": {
    "slideshow": {
     "slide_type": "subslide"
    }
   },
   "source": [
    "## Full listing of the code required (also show running app!):\n",
    "\n",
    "<br><img src=\"./nyc_parambokeh.png\" width='70%'>"
   ]
  },
  {
   "cell_type": "markdown",
   "metadata": {
    "slideshow": {
     "slide_type": "slide"
    }
   },
   "source": [
    "# Branching out\n",
    "\n",
    "\n",
    "Much more ambitious apps are possible with surprisingly little additional code or effort:\n",
    "\n",
    "* Adding additional linked or separate subplots of any type; see [holoviews.org](http://holoviews.org)\n",
    "* Declaring code that runs for clicking or selecting *within* the Bokeh plot; see \"streams\" at [holoviews.org](http://holoviews.org)\n",
    "* Using multiple sets of widgets of many different types; see [ParamNB](https://github.com/ioam/paramnb) and [ParamBokeh](https://github.com/ioam/parambokeh)\n",
    "* Using datasets too big for any one machine, with [Dask.Distributed](https://distributed.readthedocs.io)"
   ]
  },
  {
   "cell_type": "markdown",
   "metadata": {
    "slideshow": {
     "slide_type": "slide"
    }
   },
   "source": [
    "# Future work\n",
    "\n",
    "* Bokeh Server is mature and well supported, but does not currently support drag-and-drop layout\n",
    "* Jupyter Dashboards Server does support drag-and-drop layout, but not currently maintained and requires older ipywidgets version\n",
    "* ParamBokeh still needs some polishing and work to make it ready for widespread use; ParamNB is more mature so far\n",
    "* Both ParamNB and ParamBokeh need to provide more flexible widget layouts, page layouts\n",
    "* Let us know what you would like to see out of these tools!\n",
    "\n",
    "Join us on our Gitter channel or file issues!"
   ]
  },
  {
   "cell_type": "markdown",
   "metadata": {
    "slideshow": {
     "slide_type": "slide"
    }
   },
   "source": [
    "# Acknowledgements\n",
    "\n",
    "* GeoViews development was partially funded by work with the UK MetOffice\n",
    "* Thanks to Continuum Analytics for supporting FOSS\n",
    "* Thanks to contributors \n",
    "* Come find us at **holoviews.org** and **geoviews.org**\n",
    "\n",
    "\n",
    "<img src='./anaconda_logo.png' width=250px>"
   ]
  }
 ],
 "metadata": {
  "celltoolbar": "Slideshow",
  "extensions": {
   "jupyter_dashboards": {
    "activeView": "grid_default",
    "version": 1,
    "views": {
     "grid_default": {
      "cellMargin": 10,
      "defaultCellHeight": 20,
      "maxColumns": 12,
      "name": "grid",
      "type": "grid"
     },
     "report_default": {
      "name": "report",
      "type": "report"
     }
    }
   }
  },
  "kernelspec": {
   "display_name": "Python 3",
   "language": "python",
   "name": "python3"
  },
  "language_info": {
   "codemirror_mode": {
    "name": "ipython",
    "version": 3
   },
   "file_extension": ".py",
   "mimetype": "text/x-python",
   "name": "python",
   "nbconvert_exporter": "python",
   "pygments_lexer": "ipython3",
   "version": "3.6.1"
  }
 },
 "nbformat": 4,
 "nbformat_minor": 2
}
